{
 "cells": [
  {
   "cell_type": "markdown",
   "metadata": {},
   "source": [
    "### 9-10-2019\n",
    "### Data encryption and decryption"
   ]
  },
  {
   "cell_type": "code",
   "execution_count": 7,
   "metadata": {},
   "outputs": [
    {
     "data": {
      "text/plain": [
       "'cdef'"
      ]
     },
     "execution_count": 7,
     "metadata": {},
     "output_type": "execute_result"
    }
   ],
   "source": [
    "data='abcd'\n",
    "encryptdata=''\n",
    "for char in data:\n",
    "    encryptdata+=chr(ord(char)+2)\n",
    "encryptdata"
   ]
  },
  {
   "cell_type": "code",
   "execution_count": 8,
   "metadata": {},
   "outputs": [
    {
     "data": {
      "text/plain": [
       "'abcd'"
      ]
     },
     "execution_count": 8,
     "metadata": {},
     "output_type": "execute_result"
    }
   ],
   "source": [
    "data=encryptdata\n",
    "originaldata=''\n",
    "for char in data:\n",
    "    originaldata+=chr(ord(char)-2)\n",
    "originaldata"
   ]
  },
  {
   "cell_type": "code",
   "execution_count": 9,
   "metadata": {},
   "outputs": [],
   "source": [
    "# function to generate key to encrypt data\n",
    "def geneartekey(keypath):\n",
    "    with open(keypath,'w') as f:\n",
    "        for i in range(10):\n",
    "            if i<6:\n",
    "                f.write(str(i)+\" \"+str(i+4)+'\\n')\n",
    "            else:\n",
    "                f.write(str(i)+\" \"+str(i-6)+'\\n')\n",
    "    return\n",
    "keypath='Datafiles/key.txt'\n",
    "geneartekey(keypath)"
   ]
  },
  {
   "cell_type": "code",
   "execution_count": 10,
   "metadata": {},
   "outputs": [
    {
     "data": {
      "text/plain": [
       "{'0': '4',\n",
       " '1': '5',\n",
       " '2': '6',\n",
       " '3': '7',\n",
       " '4': '8',\n",
       " '5': '9',\n",
       " '6': '0',\n",
       " '7': '1',\n",
       " '8': '2',\n",
       " '9': '3'}"
      ]
     },
     "execution_count": 10,
     "metadata": {},
     "output_type": "execute_result"
    }
   ],
   "source": [
    "def dictkeyfile(keyfile):\n",
    "    key={}\n",
    "    with open(keyfile,'r') as f:\n",
    "        for line in f:\n",
    "            line=line.split()\n",
    "            key[line[0]]=line[1]\n",
    "        return key\n",
    "keyfile=\"datafiles/key.txt\"\n",
    "k=dictkeyfile(keyfile)\n",
    "k          "
   ]
  },
  {
   "cell_type": "code",
   "execution_count": 15,
   "metadata": {},
   "outputs": [
    {
     "name": "stdout",
     "output_type": "stream",
     "text": [
      "['23', '45', '98', '99', '100']\n",
      "m 23\n",
      "d 2\n",
      "d 3\n",
      "m 45\n",
      "d 4\n",
      "d 5\n",
      "m 98\n",
      "d 9\n",
      "d 8\n",
      "m 99\n",
      "d 9\n",
      "d 9\n",
      "m 100\n",
      "d 1\n",
      "d 0\n",
      "d 0\n"
     ]
    }
   ],
   "source": [
    "# function to read data file\n",
    "\n",
    "def encryptedmarksdata(datafile,keyfile):\n",
    "    key=dictkeyfile(keyfile)\n",
    "    with open(datafile,'r') as f:\n",
    "        filedata=f.read().split('\\n')\n",
    "        print(filedata)\n",
    "    with open(\"datafiles/encryptedmarks.txt\",\"w\") as f:\n",
    "        for mark in filedata:\n",
    "            print('m',mark)\n",
    "            line=''\n",
    "            for digit in mark:\n",
    "                print(\"d\",digit)\n",
    "                line+=key[digit]\n",
    "            f.write(line+'\\n')\n",
    "        return\n",
    "datafile=\"datafiles/encryptedmarks.txt\"\n",
    "keyfile=\"datafiles/key.txt\"\n",
    "encryptedmarksdata(datafile,keyfile)"
   ]
  },
  {
   "cell_type": "code",
   "execution_count": 16,
   "metadata": {},
   "outputs": [
    {
     "data": {
      "text/plain": [
       "{'0': '4',\n",
       " '1': '5',\n",
       " '2': '6',\n",
       " '3': '7',\n",
       " '4': '8',\n",
       " '5': '9',\n",
       " '6': '0',\n",
       " '7': '1',\n",
       " '8': '2',\n",
       " '9': '3'}"
      ]
     },
     "execution_count": 16,
     "metadata": {},
     "output_type": "execute_result"
    }
   ],
   "source": [
    "k"
   ]
  },
  {
   "cell_type": "code",
   "execution_count": 21,
   "metadata": {},
   "outputs": [],
   "source": [
    "def decryptmarksdata(datafile,keyfile):\n",
    "    key=dictkeyfile(keyfile)\n",
    "    newkey={}\n",
    "    for k,v in key.items():\n",
    "        newkey[v]=k\n",
    "    with open(encryptedfile,'r') as f:\n",
    "        encrypteddata=f.read().split('\\n')\n",
    "        #print(encrpteddata)\n",
    "    with open(\"datafiles/originaldata.txt\",\"w\") as f:\n",
    "        for en in encrypteddata:\n",
    "            line=\"\"\n",
    "            for digit in en:\n",
    "                line+=newkey[digit]\n",
    "            f.write(line+'\\n')\n",
    "        return\n",
    "encryptedfile=\"datafiles/encrypt.txt\"\n",
    "keyfile=\"datafiles/key.txt\"\n",
    "decryptmarksdata(datafile,keyfile)"
   ]
  },
  {
   "cell_type": "code",
   "execution_count": null,
   "metadata": {},
   "outputs": [],
   "source": []
  }
 ],
 "metadata": {
  "kernelspec": {
   "display_name": "Python 3",
   "language": "python",
   "name": "python3"
  },
  "language_info": {
   "codemirror_mode": {
    "name": "ipython",
    "version": 3
   },
   "file_extension": ".py",
   "mimetype": "text/x-python",
   "name": "python",
   "nbconvert_exporter": "python",
   "pygments_lexer": "ipython3",
   "version": "3.7.3"
  }
 },
 "nbformat": 4,
 "nbformat_minor": 2
}
